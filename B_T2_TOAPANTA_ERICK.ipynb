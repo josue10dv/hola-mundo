{
  "nbformat": 4,
  "nbformat_minor": 0,
  "metadata": {
    "colab": {
      "provenance": [],
      "authorship_tag": "ABX9TyPPPt4ofXCpkmI2s4ZjquNQ",
      "include_colab_link": true
    },
    "kernelspec": {
      "name": "python3",
      "display_name": "Python 3"
    },
    "language_info": {
      "name": "python"
    }
  },
  "cells": [
    {
      "cell_type": "markdown",
      "metadata": {
        "id": "view-in-github",
        "colab_type": "text"
      },
      "source": [
        "<a href=\"https://colab.research.google.com/github/josue10dv/hola-mundo/blob/main/B_T2_TOAPANTA_ERICK.ipynb\" target=\"_parent\"><img src=\"https://colab.research.google.com/assets/colab-badge.svg\" alt=\"Open In Colab\"/></a>"
      ]
    },
    {
      "cell_type": "markdown",
      "source": [
        "TICs\n",
        "Trabajo numero 2"
      ],
      "metadata": {
        "id": "dXrlRlNUf4Eh"
      }
    },
    {
      "cell_type": "markdown",
      "source": [
        "1. Escribe un programa que imprima un \"hola mundo\""
      ],
      "metadata": {
        "id": "nGjnWDk2gHS2"
      }
    },
    {
      "cell_type": "code",
      "source": [
        "print('Hola mundo, soy Erick!')"
      ],
      "metadata": {
        "colab": {
          "base_uri": "https://localhost:8080/"
        },
        "id": "MKWN_R27gTwg",
        "outputId": "a85e0647-2dca-44a7-8f97-ec94929a9f83"
      },
      "execution_count": 1,
      "outputs": [
        {
          "output_type": "stream",
          "name": "stdout",
          "text": [
            "Hola mundo, soy Erick!\n"
          ]
        }
      ]
    },
    {
      "cell_type": "markdown",
      "source": [
        "2. Suma dos numeros ingresados por el usuario"
      ],
      "metadata": {
        "id": "w-5Ycx8NhKDF"
      }
    },
    {
      "cell_type": "code",
      "source": [
        "texto = 'Ingrese un numero: '\n",
        "numero_1 = int(input(texto))\n",
        "numero_2 = int(input(texto))\n",
        "print(f'La suma de los numeros ingresados es: {numero_1 + numero_2}')"
      ],
      "metadata": {
        "colab": {
          "base_uri": "https://localhost:8080/"
        },
        "id": "Svg2GcpMhWGG",
        "outputId": "eb1df81c-09ef-4425-95dc-d471aaff25d7"
      },
      "execution_count": 3,
      "outputs": [
        {
          "output_type": "stream",
          "name": "stdout",
          "text": [
            "Ingrese un numero: 4\n",
            "Ingrese un numero: 5\n",
            "La suma de los numeros ingresados es: 9\n"
          ]
        }
      ]
    },
    {
      "cell_type": "markdown",
      "source": [
        "3. Valida si el numero ingresadon por el usuario es par o impar"
      ],
      "metadata": {
        "id": "-aAEpctNgcgO"
      }
    },
    {
      "cell_type": "code",
      "source": [
        "numero = int(input('Ingrese un numero: '))\n",
        "texto_es_par = 'Es par' if numero % 2 == 0 else 'Es impar'\n",
        "print(texto_es_par)"
      ],
      "metadata": {
        "colab": {
          "base_uri": "https://localhost:8080/"
        },
        "id": "R8G2SfYVgrsq",
        "outputId": "0d50e66c-8ef1-4bdf-d0e9-eb9c7f54ef36"
      },
      "execution_count": 2,
      "outputs": [
        {
          "output_type": "stream",
          "name": "stdout",
          "text": [
            "Ingrese un numero: 13\n",
            "Es impar\n"
          ]
        }
      ]
    },
    {
      "cell_type": "markdown",
      "source": [
        "4. Calculadora basica"
      ],
      "metadata": {
        "id": "tzh2n5H4h0Pt"
      }
    },
    {
      "cell_type": "code",
      "source": [
        "numero_1 = int(input(texto))\n",
        "numero_2 = int(input(texto))\n",
        "print(f'La suma de los numeros ingresados es: {numero_1 + numero_2}')\n",
        "print(f'La resta de los numeros ingresados es: {numero_1 - numero_2}')\n",
        "print(f'La multiplicacion de los numeros ingresados es: {numero_1 * numero_2}')\n",
        "division = (numero_1 / numero_2) if not numero_2 == 0 else 'No existe division para cero'\n",
        "print(f'La division de los numeros ingresados es: {division}')"
      ],
      "metadata": {
        "colab": {
          "base_uri": "https://localhost:8080/"
        },
        "id": "6iAkaBiEh1b8",
        "outputId": "65495aa8-c186-4c0b-b899-737ed7ef8e95"
      },
      "execution_count": 4,
      "outputs": [
        {
          "output_type": "stream",
          "name": "stdout",
          "text": [
            "Ingrese un numero: 4\n",
            "Ingrese un numero: 5\n",
            "La suma de los numeros ingresados es: 9\n",
            "La resta de los numeros ingresados es: -1\n",
            "La multiplicacion de los numeros ingresados es: 20\n",
            "La division de los numeros ingresados es: 0.8\n"
          ]
        }
      ]
    },
    {
      "cell_type": "markdown",
      "source": [
        "5. Obtener el numero mayor de tres numeros ingresados por le usuario"
      ],
      "metadata": {
        "id": "TXXb-Pcfi88C"
      }
    },
    {
      "cell_type": "code",
      "source": [
        "mayor = None\n",
        "for _ in range(3):\n",
        "  numero = int(input(texto))\n",
        "\n",
        "  if _ == 0:\n",
        "    mayor = numero\n",
        "  else:\n",
        "    mayor = numero if numero > mayor else mayor\n",
        "\n",
        "print(f'El numero mayor es: {mayor}')\n",
        "\n"
      ],
      "metadata": {
        "colab": {
          "base_uri": "https://localhost:8080/"
        },
        "id": "cIzjamKDjA5g",
        "outputId": "19a1ba5d-2e0c-44b0-b045-005b10e0a8a5"
      },
      "execution_count": 7,
      "outputs": [
        {
          "output_type": "stream",
          "name": "stdout",
          "text": [
            "Ingrese un numero: 4\n",
            "Ingrese un numero: 3\n",
            "Ingrese un numero: 10\n",
            "El numero mayor es: 10\n"
          ]
        }
      ]
    },
    {
      "cell_type": "markdown",
      "source": [
        "6. El area del circulo para un radio dado por el usuario"
      ],
      "metadata": {
        "id": "JpUxzjRukQ6t"
      }
    },
    {
      "cell_type": "code",
      "source": [
        "import math\n",
        "\n",
        "radio = int(input('Ingrese el radio del circulo: '))\n",
        "area = math.pi * radio ** 2\n",
        "print(f'El area del circulo es: {area}')"
      ],
      "metadata": {
        "colab": {
          "base_uri": "https://localhost:8080/"
        },
        "id": "JNbYG878kbgD",
        "outputId": "a7b62458-f877-44da-c60b-f6097748ab09"
      },
      "execution_count": 8,
      "outputs": [
        {
          "output_type": "stream",
          "name": "stdout",
          "text": [
            "Ingrese el radio del circulo: 1\n",
            "El area del circulo es: 3.141592653589793\n"
          ]
        }
      ]
    },
    {
      "cell_type": "markdown",
      "source": [
        "7. Convertir los grados celcius ingresados por el usuario en farenheit"
      ],
      "metadata": {
        "id": "2OUABIKPkyjj"
      }
    },
    {
      "cell_type": "code",
      "source": [
        "celcius = int(input('Ingrese temperatura en grados Celcius: '))\n",
        "farenheit = (celcius * 9/5) + 32\n",
        "print(f'La temperatura en grados farenheit es: {farenheit}')"
      ],
      "metadata": {
        "colab": {
          "base_uri": "https://localhost:8080/"
        },
        "id": "jhR4sl9jkuZk",
        "outputId": "0acd3809-3f12-49ca-8ae0-1f126d04dcc2"
      },
      "execution_count": 9,
      "outputs": [
        {
          "output_type": "stream",
          "name": "stdout",
          "text": [
            "Ingrese temperatura en grados Celcius: 32\n",
            "La temperatura en grados farenheit es: 89.6\n"
          ]
        }
      ]
    },
    {
      "cell_type": "markdown",
      "source": [
        "8. Escribe un programa que cuente de 10 a 0"
      ],
      "metadata": {
        "id": "StaEOAnjlebz"
      }
    },
    {
      "cell_type": "code",
      "source": [
        "for numero in range(11,0,-1):\n",
        "  numero = numero - 1\n",
        "  print('----',numero)"
      ],
      "metadata": {
        "colab": {
          "base_uri": "https://localhost:8080/"
        },
        "id": "RVKqFvzklXZS",
        "outputId": "5f55a956-3254-458f-9e00-48241b53b8d3"
      },
      "execution_count": 19,
      "outputs": [
        {
          "output_type": "stream",
          "name": "stdout",
          "text": [
            "---- 10\n",
            "---- 9\n",
            "---- 8\n",
            "---- 7\n",
            "---- 6\n",
            "---- 5\n",
            "---- 4\n",
            "---- 3\n",
            "---- 2\n",
            "---- 1\n",
            "---- 0\n"
          ]
        }
      ]
    },
    {
      "cell_type": "markdown",
      "source": [
        "9. Tabla de multiplicar por un numero introducido por el usuario"
      ],
      "metadata": {
        "id": "-Q2ECeO1mStS"
      }
    },
    {
      "cell_type": "code",
      "source": [
        "numero = int(input(texto))\n",
        "print('********** Tabla de multiplicar **********')\n",
        "for _ in range(1,12):\n",
        "  print(f'{numero} x {_} = {numero * _}')"
      ],
      "metadata": {
        "colab": {
          "base_uri": "https://localhost:8080/"
        },
        "id": "4GmGGRmUlxsU",
        "outputId": "8d509941-402f-4611-c888-9d25761002e7"
      },
      "execution_count": 25,
      "outputs": [
        {
          "output_type": "stream",
          "name": "stdout",
          "text": [
            "Ingrese un numero: 12\n",
            "********** Tabla de multiplicar **********\n",
            "12 x 1 = 12\n",
            "12 x 2 = 24\n",
            "12 x 3 = 36\n",
            "12 x 4 = 48\n",
            "12 x 5 = 60\n",
            "12 x 6 = 72\n",
            "12 x 7 = 84\n",
            "12 x 8 = 96\n",
            "12 x 9 = 108\n",
            "12 x 10 = 120\n",
            "12 x 11 = 132\n"
          ]
        }
      ]
    },
    {
      "cell_type": "markdown",
      "source": [
        "10. Valida si el numero ingresado por el usuario es primo\n"
      ],
      "metadata": {
        "id": "_AZplcHBn5G3"
      }
    },
    {
      "cell_type": "code",
      "source": [
        "numero = int(input(texto))\n",
        "\n",
        "if numero <= 1:\n",
        "  print('No es primo')\n",
        "else:\n",
        "  es_primo = True\n",
        "  for _ in range(2,numero):\n",
        "    if numero % _ == 0:\n",
        "      es_primo = False\n",
        "      break\n",
        "\n",
        "  print('Es primo' if es_primo else 'No es primo')"
      ],
      "metadata": {
        "id": "yf49R_eInbSl"
      },
      "execution_count": null,
      "outputs": []
    },
    {
      "cell_type": "markdown",
      "source": [
        "11. Suma todos los numeros hasta un limite"
      ],
      "metadata": {
        "id": "axF2XDEVoFZi"
      }
    },
    {
      "cell_type": "code",
      "source": [
        "limite = int(input('Ingresa el limite de la suma: '))\n",
        "suma_total = 0\n",
        "for _ in range(1,limite + 1):\n",
        "  suma_total += _\n",
        "\n",
        "print(f'Total de la suma: {suma_total}')"
      ],
      "metadata": {
        "colab": {
          "base_uri": "https://localhost:8080/"
        },
        "id": "5xcrlohgoggk",
        "outputId": "945caadd-0e8f-4a32-800a-68df07d66b32"
      },
      "execution_count": 28,
      "outputs": [
        {
          "output_type": "stream",
          "name": "stdout",
          "text": [
            "Ingresa el limite de la suma: 5\n",
            "Total de la suma: 15\n"
          ]
        }
      ]
    },
    {
      "cell_type": "code",
      "source": [],
      "metadata": {
        "id": "CDLppTZEoulb"
      },
      "execution_count": null,
      "outputs": []
    }
  ]
}